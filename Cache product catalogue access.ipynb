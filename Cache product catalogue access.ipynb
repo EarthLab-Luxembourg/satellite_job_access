{
 "cells": [
  {
   "cell_type": "markdown",
   "metadata": {},
   "source": [
    "# Demonstration notebook to search, list product and download a band"
   ]
  },
  {
   "cell_type": "markdown",
   "metadata": {},
   "source": [
    "This notebook is defined in four different sections:\n",
    "1. Import requirements and definition of the parameters\n",
    "2. Search for cached products\n",
    "3. Listing the bands of one product\n",
    "4. Downloading a band"
   ]
  },
  {
   "cell_type": "markdown",
   "metadata": {},
   "source": [
    "## Import requirements and definition of the parameters"
   ]
  },
  {
   "cell_type": "code",
   "execution_count": 1,
   "metadata": {},
   "outputs": [],
   "source": [
    "import os\n",
    "import os.path as path\n",
    "import requests\n",
    "import json"
   ]
  },
  {
   "cell_type": "markdown",
   "metadata": {},
   "source": [
    "Access to the Catalogue API\n",
    "This API is listing the EO products that have been downloaded within Max-ICS Cache\n",
    "The cache is populated thanks to user jobs that can be created using the user job api"
   ]
  },
  {
   "cell_type": "code",
   "execution_count": 2,
   "metadata": {},
   "outputs": [],
   "source": [
    "API_CATALOGUE_BASE_URL = \"https://api.earthlab.lu/priv/sat-job-catalog\"\n",
    "API_PRODUCT_BANDS_BASE_URL = \"https://api.earthlab.lu/priv/sat-product-job/v1/products/{product_id}/bands\"\n",
    "API_PRODUCT_BAND_BASE_URL = \"https://api.earthlab.lu/priv/sat-product-job/v1/products/{product_id}/bands/{file_id}\"\n",
    "API_AUTH_BASE_URL = \"https://max-ics.earthlab.lu/authServer/api/v1/connection\""
   ]
  },
  {
   "cell_type": "code",
   "execution_count": 3,
   "metadata": {},
   "outputs": [],
   "source": [
    "PROVIDER = \"sentinel-2\"\n",
    "GEO_AREA = {\"type\":\"Polygon\",\"coordinates\":[[[-104.852226585911,39.600325260831596],[-97.9901366137382,39.600325260831596],[-97.9901366137382,43.20496589647098],[-104.852226585911,43.20496589647098],[-104.852226585911,39.600325260831596]]]}\n",
    "USERNAME = \"<user>\" ## Please modify\n",
    "PASSWORD = \"<pass>\" ## Please modify"
   ]
  },
  {
   "cell_type": "markdown",
   "metadata": {},
   "source": [
    "Various function to can be used to authenticate, search for products, list bands and download bands"
   ]
  },
  {
   "cell_type": "code",
   "execution_count": 4,
   "metadata": {},
   "outputs": [],
   "source": [
    "def get_auth_token() -> type:\n",
    "    \"\"\"Function to get an authentication Bearer\n",
    "    :return: JWT token\n",
    "    :rtype: str\"\"\"\n",
    "    payload = {\"user_name\": USERNAME,\"password\": PASSWORD,\"with_token\": False}\n",
    "    req_auth = requests.post(API_AUTH_BASE_URL, json=payload, )\n",
    "    req_auth.raise_for_status()\n",
    "    bearer = req_auth.headers['Set-Cookie'].split(\";\")[0]\n",
    "    return \"Bearer \" + bearer.split(\"=\")[1]\n",
    "\n",
    "def search_for_cached_products(geo_area: dict, provider: str, limit: int) -> list:\n",
    "    \"\"\"Function to search for cached product within a certain area\n",
    "    :param geo_area: GeoJSON for the rectangled searched area\n",
    "    :type geo_area: dict (GeoJSON)\n",
    "    :param provider: name of the provider (one of: landsat-8, sentinel-2...)\n",
    "    :type provider: str\n",
    "    :param limit: Number of result (max 1000)\n",
    "    :type limit: int\n",
    "    :return: List of products\n",
    "    :rtype: list\n",
    "    \"\"\"\n",
    "    ## Filter results within given flattened coordinates as a single array.\n",
    "    ## It can contains 4 coordinates (bbox) or more than 8 (polygon)\n",
    "    within = []\n",
    "    for point in geo_area['coordinates'][0]:\n",
    "        within.append(point[0])\n",
    "        within.append(point[1])\n",
    "    url = API_CATALOGUE_BASE_URL + \"/products?provider=\" + provider \n",
    "    for coord in within:\n",
    "        url = url + \"&within=\" + str(coord)\n",
    "    url = url + \"&limit=\" + str(limit)\n",
    "    req = requests.get(url=url, headers={\"authorization\": get_auth_token()})\n",
    "    req.raise_for_status()\n",
    "    return req.json()\n",
    "    \n",
    "\n",
    "def download_product_bands(product_id: str) -> list:\n",
    "    \"\"\"Function to get the bands information for one particular product\n",
    "    :param product_id: ID of the product\n",
    "    :type product_id: str\n",
    "    :return: list of products\n",
    "    :rtype: list\n",
    "    \"\"\"\n",
    "    url = API_PRODUCT_BANDS_BASE_URL.format(product_id=product_id)\n",
    "    req = requests.request(method=\"get\", url=url, headers={\"authorization\": get_auth_token()})\n",
    "    req.raise_for_status()\n",
    "    return req.json()\n",
    "\n",
    "def download_one_band(product_id: str, file_id: str, filename: str, out_path: str = \"./\") -> None:\n",
    "    \"\"\"Function to download a product from the API\n",
    "    :param product_id: ID of the product\n",
    "    :type product_id: str\n",
    "    :param file_id: ID of the band\n",
    "    :type file_id: str\n",
    "    :param filename: Name of the file to save\n",
    "    :type filename: str\n",
    "    :param out_path: folder to use for saving the file [Default to: './']\n",
    "    :type out_path: str\n",
    "    \"\"\"\n",
    "    url = API_PRODUCT_BAND_BASE_URL.format(product_id=product_id, file_id=file_id)\n",
    "    req = requests.get(url=url, headers={\"authorization\": get_auth_token()}, stream=True)\n",
    "    req.raise_for_status()\n",
    "    handle = open(os.path.join(out_path, filename), \"wb\")\n",
    "    for chunk in req.iter_content(chunk_size=8192):\n",
    "        if chunk:  # filter out keep-alive new chunks\n",
    "            handle.write(chunk)\n"
   ]
  },
  {
   "cell_type": "markdown",
   "metadata": {},
   "source": [
    "# First making the search within the cached products"
   ]
  },
  {
   "cell_type": "code",
   "execution_count": 5,
   "metadata": {},
   "outputs": [
    {
     "name": "stdout",
     "output_type": "stream",
     "text": [
      "Got  921  products\n"
     ]
    }
   ],
   "source": [
    "product_list = search_for_cached_products(geo_area=GEO_AREA, provider=PROVIDER, limit=1000)\n",
    "print(\"Got \", len(product_list), \" products\")"
   ]
  },
  {
   "cell_type": "markdown",
   "metadata": {},
   "source": [
    "# Second listing the bands"
   ]
  },
  {
   "cell_type": "code",
   "execution_count": 7,
   "metadata": {},
   "outputs": [
    {
     "name": "stdout",
     "output_type": "stream",
     "text": [
      "The first product has  35  pseudo-bands (files respective to band and resolutions):\n",
      "------------------------------------|---------------------------------------------------------------\n",
      "Filename                            |  Band ID\n",
      "------------------------------------|---------------------------------------------------------------\n",
      "T14TKL_20200609T172911_B07_60m.jp2  |  UzJBX01TSUwyQV8yMDIwMDYwOVQxNzI5MTFfTjAyMTRfUjA1NV9UMTRUS0xfMjAyMDA2MDlUMjE1MDEyLlNBRkUvVDE0VEtMXzIwMjAwNjA5VDE3MjkxMV9CMDdfNjBtLmpwMg==\n",
      "T14TKL_20200609T172911_B8A_60m.jp2  |  UzJBX01TSUwyQV8yMDIwMDYwOVQxNzI5MTFfTjAyMTRfUjA1NV9UMTRUS0xfMjAyMDA2MDlUMjE1MDEyLlNBRkUvVDE0VEtMXzIwMjAwNjA5VDE3MjkxMV9COEFfNjBtLmpwMg==\n",
      "T14TKL_20200609T172911_WVP_60m.jp2  |  UzJBX01TSUwyQV8yMDIwMDYwOVQxNzI5MTFfTjAyMTRfUjA1NV9UMTRUS0xfMjAyMDA2MDlUMjE1MDEyLlNBRkUvVDE0VEtMXzIwMjAwNjA5VDE3MjkxMV9XVlBfNjBtLmpwMg==\n",
      "T14TKL_20200609T172911_TCI_60m.jp2  |  UzJBX01TSUwyQV8yMDIwMDYwOVQxNzI5MTFfTjAyMTRfUjA1NV9UMTRUS0xfMjAyMDA2MDlUMjE1MDEyLlNBRkUvVDE0VEtMXzIwMjAwNjA5VDE3MjkxMV9UQ0lfNjBtLmpwMg==\n",
      "T14TKL_20200609T172911_B06_60m.jp2  |  UzJBX01TSUwyQV8yMDIwMDYwOVQxNzI5MTFfTjAyMTRfUjA1NV9UMTRUS0xfMjAyMDA2MDlUMjE1MDEyLlNBRkUvVDE0VEtMXzIwMjAwNjA5VDE3MjkxMV9CMDZfNjBtLmpwMg==\n",
      "T14TKL_20200609T172911_B03_60m.jp2  |  UzJBX01TSUwyQV8yMDIwMDYwOVQxNzI5MTFfTjAyMTRfUjA1NV9UMTRUS0xfMjAyMDA2MDlUMjE1MDEyLlNBRkUvVDE0VEtMXzIwMjAwNjA5VDE3MjkxMV9CMDNfNjBtLmpwMg==\n",
      "T14TKL_20200609T172911_B11_60m.jp2  |  UzJBX01TSUwyQV8yMDIwMDYwOVQxNzI5MTFfTjAyMTRfUjA1NV9UMTRUS0xfMjAyMDA2MDlUMjE1MDEyLlNBRkUvVDE0VEtMXzIwMjAwNjA5VDE3MjkxMV9CMTFfNjBtLmpwMg==\n",
      "T14TKL_20200609T172911_B12_60m.jp2  |  UzJBX01TSUwyQV8yMDIwMDYwOVQxNzI5MTFfTjAyMTRfUjA1NV9UMTRUS0xfMjAyMDA2MDlUMjE1MDEyLlNBRkUvVDE0VEtMXzIwMjAwNjA5VDE3MjkxMV9CMTJfNjBtLmpwMg==\n",
      "T14TKL_20200609T172911_B01_60m.jp2  |  UzJBX01TSUwyQV8yMDIwMDYwOVQxNzI5MTFfTjAyMTRfUjA1NV9UMTRUS0xfMjAyMDA2MDlUMjE1MDEyLlNBRkUvVDE0VEtMXzIwMjAwNjA5VDE3MjkxMV9CMDFfNjBtLmpwMg==\n",
      "T14TKL_20200609T172911_B02_60m.jp2  |  UzJBX01TSUwyQV8yMDIwMDYwOVQxNzI5MTFfTjAyMTRfUjA1NV9UMTRUS0xfMjAyMDA2MDlUMjE1MDEyLlNBRkUvVDE0VEtMXzIwMjAwNjA5VDE3MjkxMV9CMDJfNjBtLmpwMg==\n",
      "T14TKL_20200609T172911_B05_60m.jp2  |  UzJBX01TSUwyQV8yMDIwMDYwOVQxNzI5MTFfTjAyMTRfUjA1NV9UMTRUS0xfMjAyMDA2MDlUMjE1MDEyLlNBRkUvVDE0VEtMXzIwMjAwNjA5VDE3MjkxMV9CMDVfNjBtLmpwMg==\n",
      "T14TKL_20200609T172911_SCL_60m.jp2  |  UzJBX01TSUwyQV8yMDIwMDYwOVQxNzI5MTFfTjAyMTRfUjA1NV9UMTRUS0xfMjAyMDA2MDlUMjE1MDEyLlNBRkUvVDE0VEtMXzIwMjAwNjA5VDE3MjkxMV9TQ0xfNjBtLmpwMg==\n",
      "T14TKL_20200609T172911_B04_60m.jp2  |  UzJBX01TSUwyQV8yMDIwMDYwOVQxNzI5MTFfTjAyMTRfUjA1NV9UMTRUS0xfMjAyMDA2MDlUMjE1MDEyLlNBRkUvVDE0VEtMXzIwMjAwNjA5VDE3MjkxMV9CMDRfNjBtLmpwMg==\n",
      "T14TKL_20200609T172911_B09_60m.jp2  |  UzJBX01TSUwyQV8yMDIwMDYwOVQxNzI5MTFfTjAyMTRfUjA1NV9UMTRUS0xfMjAyMDA2MDlUMjE1MDEyLlNBRkUvVDE0VEtMXzIwMjAwNjA5VDE3MjkxMV9CMDlfNjBtLmpwMg==\n",
      "T14TKL_20200609T172911_AOT_60m.jp2  |  UzJBX01TSUwyQV8yMDIwMDYwOVQxNzI5MTFfTjAyMTRfUjA1NV9UMTRUS0xfMjAyMDA2MDlUMjE1MDEyLlNBRkUvVDE0VEtMXzIwMjAwNjA5VDE3MjkxMV9BT1RfNjBtLmpwMg==\n",
      "T14TKL_20200609T172911_SCL_20m.jp2  |  UzJBX01TSUwyQV8yMDIwMDYwOVQxNzI5MTFfTjAyMTRfUjA1NV9UMTRUS0xfMjAyMDA2MDlUMjE1MDEyLlNBRkUvVDE0VEtMXzIwMjAwNjA5VDE3MjkxMV9TQ0xfMjBtLmpwMg==\n",
      "T14TKL_20200609T172911_B11_20m.jp2  |  UzJBX01TSUwyQV8yMDIwMDYwOVQxNzI5MTFfTjAyMTRfUjA1NV9UMTRUS0xfMjAyMDA2MDlUMjE1MDEyLlNBRkUvVDE0VEtMXzIwMjAwNjA5VDE3MjkxMV9CMTFfMjBtLmpwMg==\n",
      "T14TKL_20200609T172911_B03_20m.jp2  |  UzJBX01TSUwyQV8yMDIwMDYwOVQxNzI5MTFfTjAyMTRfUjA1NV9UMTRUS0xfMjAyMDA2MDlUMjE1MDEyLlNBRkUvVDE0VEtMXzIwMjAwNjA5VDE3MjkxMV9CMDNfMjBtLmpwMg==\n",
      "T14TKL_20200609T172911_B02_20m.jp2  |  UzJBX01TSUwyQV8yMDIwMDYwOVQxNzI5MTFfTjAyMTRfUjA1NV9UMTRUS0xfMjAyMDA2MDlUMjE1MDEyLlNBRkUvVDE0VEtMXzIwMjAwNjA5VDE3MjkxMV9CMDJfMjBtLmpwMg==\n",
      "T14TKL_20200609T172911_B05_20m.jp2  |  UzJBX01TSUwyQV8yMDIwMDYwOVQxNzI5MTFfTjAyMTRfUjA1NV9UMTRUS0xfMjAyMDA2MDlUMjE1MDEyLlNBRkUvVDE0VEtMXzIwMjAwNjA5VDE3MjkxMV9CMDVfMjBtLmpwMg==\n",
      "T14TKL_20200609T172911_B06_20m.jp2  |  UzJBX01TSUwyQV8yMDIwMDYwOVQxNzI5MTFfTjAyMTRfUjA1NV9UMTRUS0xfMjAyMDA2MDlUMjE1MDEyLlNBRkUvVDE0VEtMXzIwMjAwNjA5VDE3MjkxMV9CMDZfMjBtLmpwMg==\n",
      "T14TKL_20200609T172911_B12_20m.jp2  |  UzJBX01TSUwyQV8yMDIwMDYwOVQxNzI5MTFfTjAyMTRfUjA1NV9UMTRUS0xfMjAyMDA2MDlUMjE1MDEyLlNBRkUvVDE0VEtMXzIwMjAwNjA5VDE3MjkxMV9CMTJfMjBtLmpwMg==\n",
      "T14TKL_20200609T172911_AOT_20m.jp2  |  UzJBX01TSUwyQV8yMDIwMDYwOVQxNzI5MTFfTjAyMTRfUjA1NV9UMTRUS0xfMjAyMDA2MDlUMjE1MDEyLlNBRkUvVDE0VEtMXzIwMjAwNjA5VDE3MjkxMV9BT1RfMjBtLmpwMg==\n",
      "T14TKL_20200609T172911_B8A_20m.jp2  |  UzJBX01TSUwyQV8yMDIwMDYwOVQxNzI5MTFfTjAyMTRfUjA1NV9UMTRUS0xfMjAyMDA2MDlUMjE1MDEyLlNBRkUvVDE0VEtMXzIwMjAwNjA5VDE3MjkxMV9COEFfMjBtLmpwMg==\n",
      "T14TKL_20200609T172911_TCI_20m.jp2  |  UzJBX01TSUwyQV8yMDIwMDYwOVQxNzI5MTFfTjAyMTRfUjA1NV9UMTRUS0xfMjAyMDA2MDlUMjE1MDEyLlNBRkUvVDE0VEtMXzIwMjAwNjA5VDE3MjkxMV9UQ0lfMjBtLmpwMg==\n",
      "T14TKL_20200609T172911_B07_20m.jp2  |  UzJBX01TSUwyQV8yMDIwMDYwOVQxNzI5MTFfTjAyMTRfUjA1NV9UMTRUS0xfMjAyMDA2MDlUMjE1MDEyLlNBRkUvVDE0VEtMXzIwMjAwNjA5VDE3MjkxMV9CMDdfMjBtLmpwMg==\n",
      "T14TKL_20200609T172911_WVP_20m.jp2  |  UzJBX01TSUwyQV8yMDIwMDYwOVQxNzI5MTFfTjAyMTRfUjA1NV9UMTRUS0xfMjAyMDA2MDlUMjE1MDEyLlNBRkUvVDE0VEtMXzIwMjAwNjA5VDE3MjkxMV9XVlBfMjBtLmpwMg==\n",
      "T14TKL_20200609T172911_B04_20m.jp2  |  UzJBX01TSUwyQV8yMDIwMDYwOVQxNzI5MTFfTjAyMTRfUjA1NV9UMTRUS0xfMjAyMDA2MDlUMjE1MDEyLlNBRkUvVDE0VEtMXzIwMjAwNjA5VDE3MjkxMV9CMDRfMjBtLmpwMg==\n",
      "T14TKL_20200609T172911_WVP_10m.jp2  |  UzJBX01TSUwyQV8yMDIwMDYwOVQxNzI5MTFfTjAyMTRfUjA1NV9UMTRUS0xfMjAyMDA2MDlUMjE1MDEyLlNBRkUvVDE0VEtMXzIwMjAwNjA5VDE3MjkxMV9XVlBfMTBtLmpwMg==\n",
      "T14TKL_20200609T172911_B02_10m.jp2  |  UzJBX01TSUwyQV8yMDIwMDYwOVQxNzI5MTFfTjAyMTRfUjA1NV9UMTRUS0xfMjAyMDA2MDlUMjE1MDEyLlNBRkUvVDE0VEtMXzIwMjAwNjA5VDE3MjkxMV9CMDJfMTBtLmpwMg==\n",
      "T14TKL_20200609T172911_AOT_10m.jp2  |  UzJBX01TSUwyQV8yMDIwMDYwOVQxNzI5MTFfTjAyMTRfUjA1NV9UMTRUS0xfMjAyMDA2MDlUMjE1MDEyLlNBRkUvVDE0VEtMXzIwMjAwNjA5VDE3MjkxMV9BT1RfMTBtLmpwMg==\n",
      "T14TKL_20200609T172911_TCI_10m.jp2  |  UzJBX01TSUwyQV8yMDIwMDYwOVQxNzI5MTFfTjAyMTRfUjA1NV9UMTRUS0xfMjAyMDA2MDlUMjE1MDEyLlNBRkUvVDE0VEtMXzIwMjAwNjA5VDE3MjkxMV9UQ0lfMTBtLmpwMg==\n",
      "T14TKL_20200609T172911_B03_10m.jp2  |  UzJBX01TSUwyQV8yMDIwMDYwOVQxNzI5MTFfTjAyMTRfUjA1NV9UMTRUS0xfMjAyMDA2MDlUMjE1MDEyLlNBRkUvVDE0VEtMXzIwMjAwNjA5VDE3MjkxMV9CMDNfMTBtLmpwMg==\n",
      "T14TKL_20200609T172911_B04_10m.jp2  |  UzJBX01TSUwyQV8yMDIwMDYwOVQxNzI5MTFfTjAyMTRfUjA1NV9UMTRUS0xfMjAyMDA2MDlUMjE1MDEyLlNBRkUvVDE0VEtMXzIwMjAwNjA5VDE3MjkxMV9CMDRfMTBtLmpwMg==\n",
      "T14TKL_20200609T172911_B08_10m.jp2  |  UzJBX01TSUwyQV8yMDIwMDYwOVQxNzI5MTFfTjAyMTRfUjA1NV9UMTRUS0xfMjAyMDA2MDlUMjE1MDEyLlNBRkUvVDE0VEtMXzIwMjAwNjA5VDE3MjkxMV9CMDhfMTBtLmpwMg==\n"
     ]
    }
   ],
   "source": [
    "one_product_id = product_list[0]['id']\n",
    "one_product_bands = download_product_bands(product_id=one_product_id)\n",
    "print(\"The first product has \", len(one_product_bands), \" pseudo-bands (files respective to band and resolutions):\")\n",
    "print(\"------------------------------------|---------------------------------------------------------------\")\n",
    "print(\"Filename                            |  Band ID\")\n",
    "print(\"------------------------------------|---------------------------------------------------------------\")\n",
    "for band in one_product_bands:\n",
    "    print(band['filename'], \" | \", band['id'])"
   ]
  },
  {
   "cell_type": "markdown",
   "metadata": {},
   "source": [
    "Getting more information about the band"
   ]
  },
  {
   "cell_type": "code",
   "execution_count": 8,
   "metadata": {},
   "outputs": [
    {
     "name": "stdout",
     "output_type": "stream",
     "text": [
      "Example of information for  T14TKL_20200609T172911_B08_10m.jp2\n",
      "Name:  NIR\n",
      "Start of wavelength:  784.5  nm\n",
      "End of wavelength:  899.5  nm\n",
      "Resolution:  10  m/px\n"
     ]
    }
   ],
   "source": [
    "## Example of band information:\n",
    "print(\"Example of information for \", band['filename'])\n",
    "print(\"Name: \", band['details']['name'])\n",
    "print(\"Start of wavelength: \", band['details']['start_wavelength_nm'], \" nm\")\n",
    "print(\"End of wavelength: \", band['details']['end_wavelength_nm'], \" nm\")\n",
    "print(\"Resolution: \", band['details']['pixel_size_m'], \" m/px\")"
   ]
  },
  {
   "cell_type": "markdown",
   "metadata": {},
   "source": [
    "# Downoading the band as file"
   ]
  },
  {
   "cell_type": "code",
   "execution_count": 9,
   "metadata": {},
   "outputs": [],
   "source": [
    "## Example of code to download the mentioned band\n",
    "download_one_band(product_id=one_product_id, file_id=band['id'], filename=band['filename'])"
   ]
  },
  {
   "cell_type": "code",
   "execution_count": null,
   "metadata": {},
   "outputs": [],
   "source": []
  },
  {
   "cell_type": "code",
   "execution_count": null,
   "metadata": {},
   "outputs": [],
   "source": []
  }
 ],
 "metadata": {
  "kernelspec": {
   "display_name": "Python 3.6.7 64-bit ('base-3-6': conda)",
   "language": "python",
   "name": "python36764bitbase36condaadf286c89b574030acf3e45a354315ad"
  },
  "language_info": {
   "codemirror_mode": {
    "name": "ipython",
    "version": 3
   },
   "file_extension": ".py",
   "mimetype": "text/x-python",
   "name": "python",
   "nbconvert_exporter": "python",
   "pygments_lexer": "ipython3",
   "version": "3.6.7"
  }
 },
 "nbformat": 4,
 "nbformat_minor": 2
}
